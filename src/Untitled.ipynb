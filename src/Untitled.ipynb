{
 "cells": [
  {
   "cell_type": "code",
   "execution_count": 19,
   "metadata": {},
   "outputs": [],
   "source": [
    "import os\n",
    "from dotenv import load_dotenv\n",
    "load_dotenv()\n",
    "import json, requests\n",
    "\n",
    "\n",
    "FOURSQUARE_CLIENTID= os.getenv(\"FOURSQUARE_CLIENTID\")\n",
    "FOURSQUARE_CLIENTSECRET= os.getenv(\"FOURSQUARE_CLIENTSECRET\")\n",
    "\n",
    "def foursquare(latitude,longitude,tag):\n",
    "    url = 'https://api.foursquare.com/v2/venues/explore'\n",
    "    params = dict(\n",
    "    client_id=FOURSQUARE_CLIENTID,\n",
    "    client_secret=FOURSQUARE_CLIENTSECRET,\n",
    "    v='20200401',\n",
    "    ll=f\"{latitude},{longitude}\",\n",
    "    query=tag,\n",
    "    limit=1)\n",
    "    resp = requests.get(url=url, params=params)\n",
    "    data = json.loads(resp.text)\n",
    "    address=\" \".join(data[\"response\"][\"groups\"][0]['items'][0]['venue'][\"location\"]['formattedAddress'])\n",
    "    distance=data[\"response\"][\"groups\"][0]['items'][0]['venue'][\"location\"]['distance']\n",
    "    location=data[\"response\"][\"groups\"][0]['items'][0]['venue'][\"location\"]\n",
    "    latitude=data[\"response\"][\"groups\"][0]['items'][0]['venue'][\"location\"]['lat']\n",
    "    longitude=data[\"response\"][\"groups\"][0]['items'][0]['venue'][\"location\"]['lng']\n",
    "    return address,distance,latitude,longitude"
   ]
  },
  {
   "cell_type": "code",
   "execution_count": 20,
   "metadata": {},
   "outputs": [
    {
     "data": {
      "text/plain": [
       "('1142 Madison Ave (84th & 85th St) New York, NY 10028 United States',\n",
       " 688,\n",
       " 40.77984961470853,\n",
       " -73.95958442027471)"
      ]
     },
     "execution_count": 20,
     "metadata": {},
     "output_type": "execute_result"
    }
   ],
   "source": [
    "foursquare(40.783428,-73.966248,\"starbucks\")"
   ]
  },
  {
   "cell_type": "code",
   "execution_count": null,
   "metadata": {},
   "outputs": [],
   "source": []
  }
 ],
 "metadata": {
  "kernelspec": {
   "display_name": "Python 3",
   "language": "python",
   "name": "python3"
  },
  "language_info": {
   "codemirror_mode": {
    "name": "ipython",
    "version": 3
   },
   "file_extension": ".py",
   "mimetype": "text/x-python",
   "name": "python",
   "nbconvert_exporter": "python",
   "pygments_lexer": "ipython3",
   "version": "3.6.9"
  }
 },
 "nbformat": 4,
 "nbformat_minor": 2
}
